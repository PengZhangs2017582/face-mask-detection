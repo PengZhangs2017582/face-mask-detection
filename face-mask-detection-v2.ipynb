{
 "cells": [
  {
   "cell_type": "code",
   "execution_count": 1,
   "metadata": {},
   "outputs": [],
   "source": [
    "#Step1: Rename the positive sample data\n",
    "import os\n",
    "path = \"D:\\\\dataset\\\\facemask\\\\with_mask\" #the path of with mask dataset\n",
    "filelist = os.listdir(path)\n",
    "count=1000 #Starting from 1000.png\n",
    "for file in filelist:   \n",
    "    Olddir=os.path.join(path,file)  \n",
    "    if os.path.isdir(Olddir):  \n",
    "        continue\n",
    "    filename=os.path.splitext(file)[0]   \n",
    "    filetype=os.path.splitext(file)[1]\n",
    " \n",
    "    Newdir=os.path.join(path,str(count)+filetype)  \n",
    "    os.rename(Olddir,Newdir)\n",
    "    count+=1"
   ]
  },
  {
   "cell_type": "code",
   "execution_count": 2,
   "metadata": {},
   "outputs": [],
   "source": [
    "##Step2: Rename negative sample data\n",
    "#coding:utf-8\n",
    "import os\n",
    "path = \"D:\\\\dataset\\\\facemask\\\\without_mask\" #the path of without mask dataset\n",
    "filelist = os.listdir(path)\n",
    "count=10000 #Starting from 10000.jpg\n",
    "for file in filelist:   \n",
    "    Olddir=os.path.join(path,file)  \n",
    "    if os.path.isdir(Olddir):  \n",
    "        continue\n",
    "    filename=os.path.splitext(file)[0]   \n",
    "    filetype=os.path.splitext(file)[1]\n",
    " \n",
    "    Newdir=os.path.join(path,str(count)+filetype)  \n",
    "    os.rename(Olddir,Newdir)\n",
    "    count+=1"
   ]
  },
  {
   "cell_type": "code",
   "execution_count": 20,
   "metadata": {},
   "outputs": [],
   "source": [
    "#Step3: Modify the positive sample data size\n",
    "import pandas as pd\n",
    "import cv2\n",
    "for n in range(1000,1734):#Numbers representing the beginning and ending photos of the positive data set\n",
    "    path='D:/dataset/facemask/with_mask/'+str(n)+'.png'\n",
    "    \n",
    "    # read image\n",
    "    img = cv2.imread(path)\n",
    "#     if img is None:\n",
    "#         print(path)\n",
    "    img=cv2.resize(img,(20,20)) #Modify the sample pixel to 20x20\n",
    "    cv2.imwrite('D:/dataset/facemask/with_mask/' + str(n) + '.png', img)\n",
    "#     break\n",
    "    n += 1"
   ]
  },
  {
   "cell_type": "code",
   "execution_count": 21,
   "metadata": {},
   "outputs": [],
   "source": [
    "#Step4: Modify the negative sample data size\n",
    "import pandas as pd\n",
    "import cv2\n",
    "for n in range(10000,10871):#Numbers representing the beginning and ending photos of the negative data set\n",
    "    path='D:\\\\dataset\\\\facemask\\\\without_mask\\\\'+str(n)+'.png'\n",
    "    # 读取图片\n",
    "    img = cv2.imread(path)\n",
    "    img=cv2.resize(img,(80,80)) #Modify the sample pixel to 80x80\n",
    "    cv2.imwrite('D:\\\\dataset\\\\facemask\\\\without_mask\\\\' + str(n) + '.png', img)\n",
    "    n += 1"
   ]
  },
  {
   "cell_type": "code",
   "execution_count": 32,
   "metadata": {},
   "outputs": [],
   "source": [
    "#Step5: Preprocessing of positive sample files: add 1 0 0 20 20 at the end of each line\n",
    "#coding:utf-8\n",
    "import os\n",
    "suffix=r\" 1 0 0 20 20\" #suffix\n",
    "filelist = open('D:\\\\dataset\\\\facemask\\\\with_mask.txt','r+',encoding = 'utf-8')\n",
    "line = filelist.readlines()\n",
    "for file in line:\n",
    "    new_file=file.strip('\\n')+suffix+'\\n'\n",
    "    filelist.write(new_file)\n",
    "    \n",
    "#This process will not automatically overwrite the previous file content, so you need to manually \n",
    "#cut out the previous content and save it as a with_mask1.txt file, and in the with_mask.txt file, remain the content with the end of \n",
    "#1 0 0 20 20 "
   ]
  },
  {
   "cell_type": "code",
   "execution_count": 29,
   "metadata": {},
   "outputs": [],
   "source": [
    "#Step6: Preprocessing of negative sample files: add 1 0 0 80 80 at the end of each line \n",
    "#coding:utf-8\n",
    "import os\n",
    "suffix1=r\" 1 0 0 80 80\" #suffix\n",
    "filelist = open('D:\\\\dataset\\\\facemask\\\\without_mask.txt','r+',encoding = 'utf-8')\n",
    "line = filelist.readlines()\n",
    "for file in line:\n",
    "    file=file.strip('\\n')+suffix1+'\\n'\n",
    "    filelist.write(file)\n",
    "    \n",
    "##This process will not automatically overwrite the previous file content, so you need to manually \n",
    "#cut out the previous content and save it as a without_mask1.txt file, and in the without_mask.txt file, remain the content with the end of \n",
    "#1 0 0 80 80 "
   ]
  },
  {
   "cell_type": "code",
   "execution_count": 33,
   "metadata": {},
   "outputs": [],
   "source": [
    "#Step7: Generate positive sample with_mask.vec file and negative sample without_mask.vec file \n",
    "# Open the cmd command line, enter the directory at the same level as with_mask.txt, and execute this command:\n",
    "#  opencv_createsamples.exe -vec with_mask.vec -info with_mask.txt -num 734 -w 20 -h 20\n",
    "# And this: opencv_createsamples.exe -vec without_mask.vec -info without_mask.txt -num 871 -w 80 -h 80\n",
    "\n"
   ]
  },
  {
   "cell_type": "code",
   "execution_count": 35,
   "metadata": {},
   "outputs": [],
   "source": [
    "#Step8: Training\n",
    "#Create a txt file in the mask directory, write the following content, and save it in .bat format:\n",
    "#opencv_traincascade.exe -data xml -vec with_mask.vec -bg without_mask.txt -numPos 350 -numNeg 400 -numStages 20 -w 20 -h 20 -mode ALL\n",
    "\n",
    "#pause"
   ]
  },
  {
   "cell_type": "code",
   "execution_count": null,
   "metadata": {},
   "outputs": [],
   "source": [
    "#Then wait for the training to end, which may take tens of minutes。"
   ]
  },
  {
   "cell_type": "code",
   "execution_count": 2,
   "metadata": {},
   "outputs": [
    {
     "ename": "KeyboardInterrupt",
     "evalue": "",
     "output_type": "error",
     "traceback": [
      "\u001b[1;31m---------------------------------------------------------------------------\u001b[0m",
      "\u001b[1;31mKeyboardInterrupt\u001b[0m                         Traceback (most recent call last)",
      "\u001b[1;32m<ipython-input-2-5abbc6221cfa>\u001b[0m in \u001b[0;36m<module>\u001b[1;34m\u001b[0m\n\u001b[0;32m     11\u001b[0m \u001b[1;31m#     print(img)\u001b[0m\u001b[1;33m\u001b[0m\u001b[1;33m\u001b[0m\u001b[1;33m\u001b[0m\u001b[0m\n\u001b[0;32m     12\u001b[0m     \u001b[0mgray\u001b[0m \u001b[1;33m=\u001b[0m \u001b[0mcv2\u001b[0m\u001b[1;33m.\u001b[0m\u001b[0mcvtColor\u001b[0m\u001b[1;33m(\u001b[0m\u001b[0mimg\u001b[0m\u001b[1;33m,\u001b[0m \u001b[0mcv2\u001b[0m\u001b[1;33m.\u001b[0m\u001b[0mCOLOR_BGR2GRAY\u001b[0m\u001b[1;33m)\u001b[0m\u001b[1;33m\u001b[0m\u001b[1;33m\u001b[0m\u001b[0m\n\u001b[1;32m---> 13\u001b[1;33m     \u001b[0mfaces\u001b[0m \u001b[1;33m=\u001b[0m \u001b[0mdetector\u001b[0m\u001b[1;33m.\u001b[0m\u001b[0mdetectMultiScale\u001b[0m\u001b[1;33m(\u001b[0m\u001b[0mgray\u001b[0m\u001b[1;33m,\u001b[0m \u001b[1;36m1.1\u001b[0m\u001b[1;33m,\u001b[0m \u001b[1;36m3\u001b[0m\u001b[1;33m)\u001b[0m\u001b[1;33m\u001b[0m\u001b[1;33m\u001b[0m\u001b[0m\n\u001b[0m\u001b[0;32m     14\u001b[0m     \u001b[1;32mfor\u001b[0m \u001b[1;33m(\u001b[0m\u001b[0mx\u001b[0m\u001b[1;33m,\u001b[0m \u001b[0my\u001b[0m\u001b[1;33m,\u001b[0m \u001b[0mw\u001b[0m\u001b[1;33m,\u001b[0m \u001b[0mh\u001b[0m\u001b[1;33m)\u001b[0m \u001b[1;32min\u001b[0m \u001b[0mfaces\u001b[0m\u001b[1;33m:\u001b[0m\u001b[1;33m\u001b[0m\u001b[1;33m\u001b[0m\u001b[0m\n\u001b[0;32m     15\u001b[0m         \u001b[1;31m#The parameters are the picture, the upper left corner coordinate, the lower right corner coordinate, color, thickness\u001b[0m\u001b[1;33m\u001b[0m\u001b[1;33m\u001b[0m\u001b[1;33m\u001b[0m\u001b[0m\n",
      "\u001b[1;31mKeyboardInterrupt\u001b[0m: "
     ]
    }
   ],
   "source": [
    "#Step9: Test: Collect picture information through computer camera\n",
    "import cv2\n",
    "# detector= cv2.CascadeClassifier('C:\\\\Users\\\\asus\\\\AppData\\\\Local\\\\Programs\\\\Python\\\\Python35\\\\Lib\\\\site-packages\\\\cv2\\\\data\\\\haarcascade_frontalface_default.xml')\n",
    "detector= cv2.CascadeClassifier('D:\\\\ProgramData\\\\Anaconda3\\\\pkgs\\\\libopencv-4.0.1-hbb9e17c_0\\\\Library\\\\etc\\\\haarcascades\\\\haarcascade_frontalface_default.xml')\n",
    "\n",
    "mask_detector=cv2.CascadeClassifier('D:\\\\dataset\\\\facemask\\\\xml\\\\cascade.xml')\n",
    "cap = cv2.VideoCapture(0)\n",
    "while True:\n",
    "    ret, img = cap.read()\n",
    "#     img ='D:\\\\dataset\\ \\facemask\\\\without_mask\\\\10000.png'\n",
    "#     print(img)\n",
    "    gray = cv2.cvtColor(img, cv2.COLOR_BGR2GRAY)\n",
    "    faces = detector.detectMultiScale(gray, 1.1, 3)\n",
    "    for (x, y, w, h) in faces:\n",
    "        #The parameters are the picture, the upper left corner coordinate, the lower right corner coordinate, color, thickness\n",
    "        face=img[y:y+h,x:x+w]  # The clipping coordinates are[y0:y1, x0:x1]\n",
    "        mask_face=mask_detector.detectMultiScale(gray, 1.1, 5)\n",
    "        for (x2,y2,w2,h2) in mask_face:\n",
    "            cv2.rectangle(img, (x2, y2), (x2 + w2, y2 + h2), (0, 0, 255), 2)\n",
    "    cv2.imshow('Mask Detector', img)\n",
    "    cv2.waitKey(3)\n",
    "cap.release()\n",
    "cv2.destroyAllWindows()"
   ]
  },
  {
   "cell_type": "code",
   "execution_count": 15,
   "metadata": {},
   "outputs": [
    {
     "ename": "error",
     "evalue": "OpenCV(4.0.1) C:\\ci\\opencv-suite_1573470242804\\work\\modules\\objdetect\\src\\cascadedetect.cpp:1658: error: (-215:Assertion failed) !empty() in function 'cv::CascadeClassifier::detectMultiScale'\n",
     "output_type": "error",
     "traceback": [
      "\u001b[1;31m---------------------------------------------------------------------------\u001b[0m",
      "\u001b[1;31merror\u001b[0m                                     Traceback (most recent call last)",
      "\u001b[1;32m<ipython-input-15-3952bc9124e0>\u001b[0m in \u001b[0;36m<module>\u001b[1;34m\u001b[0m\n\u001b[0;32m     16\u001b[0m \u001b[1;31m# face_cascade = cv2.CascadeClassifier(r'd:/csdn/no_mask_detect_cascade.xml')\u001b[0m\u001b[1;33m\u001b[0m\u001b[1;33m\u001b[0m\u001b[1;33m\u001b[0m\u001b[0m\n\u001b[0;32m     17\u001b[0m \u001b[0mfaces\u001b[0m \u001b[1;33m=\u001b[0m \u001b[0mface_cascade\u001b[0m\u001b[1;33m.\u001b[0m\u001b[0mdetectMultiScale\u001b[0m\u001b[1;33m(\u001b[0m\u001b[0mgray\u001b[0m\u001b[1;33m,\u001b[0m \u001b[1;36m1.01\u001b[0m\u001b[1;33m,\u001b[0m \u001b[1;36m4\u001b[0m\u001b[1;33m)\u001b[0m  \u001b[1;31m# Face recognition 1.02 The magnification of each detection is related to the imaging size of the inspected object\u001b[0m\u001b[1;33m\u001b[0m\u001b[1;33m\u001b[0m\u001b[0m\n\u001b[1;32m---> 18\u001b[1;33m \u001b[0mmasks\u001b[0m \u001b[1;33m=\u001b[0m \u001b[0mmask_cascade\u001b[0m\u001b[1;33m.\u001b[0m\u001b[0mdetectMultiScale\u001b[0m\u001b[1;33m(\u001b[0m\u001b[0mgray\u001b[0m\u001b[1;33m,\u001b[0m \u001b[1;36m1.01\u001b[0m\u001b[1;33m,\u001b[0m \u001b[1;36m3\u001b[0m\u001b[1;33m)\u001b[0m  \u001b[1;31m#\u001b[0m\u001b[1;33m\u001b[0m\u001b[1;33m\u001b[0m\u001b[0m\n\u001b[0m\u001b[0;32m     19\u001b[0m \u001b[0mprint\u001b[0m\u001b[1;33m(\u001b[0m \u001b[1;34m\"faces num= \"\u001b[0m \u001b[1;33m+\u001b[0m \u001b[0mstr\u001b[0m\u001b[1;33m(\u001b[0m\u001b[0mlen\u001b[0m\u001b[1;33m(\u001b[0m\u001b[0mfaces\u001b[0m\u001b[1;33m)\u001b[0m\u001b[1;33m)\u001b[0m \u001b[1;33m+\u001b[0m \u001b[1;34m\", masks num= \"\u001b[0m \u001b[1;33m+\u001b[0m \u001b[0mstr\u001b[0m\u001b[1;33m(\u001b[0m\u001b[0mlen\u001b[0m\u001b[1;33m(\u001b[0m\u001b[0mmasks\u001b[0m\u001b[1;33m)\u001b[0m\u001b[1;33m)\u001b[0m\u001b[1;33m)\u001b[0m\u001b[1;33m\u001b[0m\u001b[1;33m\u001b[0m\u001b[0m\n\u001b[0;32m     20\u001b[0m \u001b[1;33m\u001b[0m\u001b[0m\n",
      "\u001b[1;31merror\u001b[0m: OpenCV(4.0.1) C:\\ci\\opencv-suite_1573470242804\\work\\modules\\objdetect\\src\\cascadedetect.cpp:1658: error: (-215:Assertion failed) !empty() in function 'cv::CascadeClassifier::detectMultiScale'\n"
     ]
    }
   ],
   "source": [
    "# Test with existing pictures\n",
    "import cv2\n",
    "\n",
    "# imagedir=\"D:/dataset/facemask/test/111.jpg\"\n",
    "# imagedir=\"D:/dataset/facemask/test/000.png\"\n",
    "imagedir=\"D:/dataset/facemask/test/555.png\"\n",
    "\n",
    "a=0\n",
    "img=cv2.imread(imagedir)\n",
    "gray = cv2.cvtColor(img, cv2.COLOR_BGR2GRAY)  # Image graying\n",
    "face_cascade= cv2.CascadeClassifier(r'D:\\\\ProgramData\\\\Anaconda3\\\\pkgs\\\\libopencv-4.0.1-hbb9e17c_0\\\\Library\\\\etc\\\\haarcascades\\\\haarcascade_frontalface_default.xml')\n",
    "\n",
    "# face_cascade = cv2.CascadeClassifier(r'd:/0205/opencv/sources/data/haarcascades/haarcascade_frontalface_default.xml')\n",
    "\n",
    "mask_cascade = cv2.CascadeClassifier(r'D:\\\\dataset\\\\facemask\\\\xml\\\\cascade.xml')\n",
    "# face_cascade = cv2.CascadeClassifier(r'd:/csdn/no_mask_detect_cascade.xml')\n",
    "faces = face_cascade.detectMultiScale(gray, 1.01, 4)  # Face recognition 1.02 The magnification of each detection is related to the imaging size of the inspected object\n",
    "masks = mask_cascade.detectMultiScale(gray, 1.01, 3)  # \n",
    "print( \"faces num= \" + str(len(faces)) + \", masks num= \" + str(len(masks)))\n",
    "\n",
    "if(len(faces) | len(masks)):\n",
    "     for (x, y, w, h) in faces:\n",
    "         img = cv2.rectangle(img, (x, y), (x + w, y + h), (0, 0, 255), 2)  # Draw a square on the face area\n",
    "         img = cv2.putText(img , \"no mask\", (x,y), cv2.FONT_HERSHEY_SIMPLEX, 1, (0,0,255), 2) \n",
    "         \n",
    "     for (mx, my,mw, mh) in masks:\n",
    "         img = cv2.rectangle(img, (mx, my), (mx + mw, my + mh), (0, 255, 0), 2)  # Draw a square on the face area of the mask\n",
    "         img = cv2.putText(img , \"mask\", (mx,my), cv2.FONT_HERSHEY_SIMPLEX, 1, (0,255,0), 2) #Output characters in the face area wearing a mask\n",
    "\n",
    "cv2.imshow('Face mask detection',img)\n",
    "cv2.waitKey(0)\n",
    "cv2.destroyAllWindows()"
   ]
  },
  {
   "cell_type": "code",
   "execution_count": null,
   "metadata": {},
   "outputs": [],
   "source": []
  },
  {
   "cell_type": "code",
   "execution_count": null,
   "metadata": {},
   "outputs": [],
   "source": []
  }
 ],
 "metadata": {
  "kernelspec": {
   "display_name": "Python 3",
   "language": "python",
   "name": "python3"
  },
  "language_info": {
   "codemirror_mode": {
    "name": "ipython",
    "version": 3
   },
   "file_extension": ".py",
   "mimetype": "text/x-python",
   "name": "python",
   "nbconvert_exporter": "python",
   "pygments_lexer": "ipython3",
   "version": "3.8.3"
  }
 },
 "nbformat": 4,
 "nbformat_minor": 4
}
